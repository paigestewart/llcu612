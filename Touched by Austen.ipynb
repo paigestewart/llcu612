{
 "cells": [
  {
   "cell_type": "markdown",
   "metadata": {},
   "source": [
    "# Touched by Austen\n",
    "\n",
    "What does Jane Austen write about touching?\n",
    "\n",
    "1. Think of synonyms for touch and use linking and search features to find examples of things (or people) characters physically touch. Note five of these things.\n",
    "\n",
    "2. Use Python and Jupyter Notebooks to collocate \"touch\" along with two synonyms. \n",
    "\n",
    "3. Write three to five sentences on your observations of Voyant or Python, or provide two possible research questions that could use your results.\n",
    "\n",
    "Submittables: The five words from Voyant, the URL for the jupyter notebook, and some observations/research questions, including how results could be misleading, all in one submission on MyCourses. "
   ]
  },
  {
   "cell_type": "markdown",
   "metadata": {},
   "source": [
    "# First!\n",
    "I will change the directory and ensure it is grabbing correctly by printing the directory."
   ]
  },
  {
   "cell_type": "code",
   "execution_count": 155,
   "metadata": {
    "scrolled": true
   },
   "outputs": [
    {
     "data": {
      "text/plain": [
       "['1790 Love And Freindship.txt',\n",
       " '1805 Lady Susan.txt',\n",
       " '1811 Sense and Sensibility.txt',\n",
       " '1813 Pride and Prejudice.txt',\n",
       " '1814 Mansfield Park.txt',\n",
       " '1815 Emma.txt',\n",
       " '1818 Northanger Abbey.txt',\n",
       " '1818 Persuasion.txt']"
      ]
     },
     "execution_count": 155,
     "metadata": {},
     "output_type": "execute_result"
    }
   ],
   "source": [
    "import os \n",
    "path = \"C:\\\\Users\\\\paige\\\\OneDrive\\\\Documents\\\\Applications\\\\GitHub\\\\llcu612\\\\austen\"\n",
    "os.chdir(path)\n",
    "files = os.listdir()\n",
    "files"
   ]
  },
  {
   "cell_type": "markdown",
   "metadata": {},
   "source": [
    "# Second!\n",
    "I will define a variable for the search term. In full form this would be coded into a search box. For now, users will have to change the string to any touch-related search term."
   ]
  },
  {
   "cell_type": "code",
   "execution_count": 156,
   "metadata": {},
   "outputs": [],
   "source": [
    "searchW = \"kiss\" \n",
    "#change this term according to your search term"
   ]
  },
  {
   "cell_type": "markdown",
   "metadata": {},
   "source": [
    "# Third! This one's big!\n",
    "I will import NLTK, then run a loop to read over each file. I will decode them and tokenize them in lowercase. austenText will turn the lowercase tokens back into a string, then austenSearch.concordance will find the search term and print 200 characters or 10 lines around the search term. I chose 200 characters or 10 lines because I wanted a larger picutre of the words around the search term while still not overwhelming the system (or the reader!).\n",
    "\n",
    "(I did not apply stopwords to austenText because I wanted the lines to come out as they are, although I did apply them before I realized it would work this way.)"
   ]
  },
  {
   "cell_type": "code",
   "execution_count": 157,
   "metadata": {
    "scrolled": false
   },
   "outputs": [
    {
     "name": "stdout",
     "output_type": "stream",
     "text": [
      "1790 Love And Freindship.txt\n",
      "Displaying 1 of 1 matches:\n",
      "ways received of him . my father met him with that look of love , that social shake , and cordial kiss which marked his gladness at beholding an old and valued freind from whom thro ' various circumst\n",
      "--------------------------------------------------\n",
      "1805 Lady Susan.txt\n",
      "Displaying 1 of 1 matches:\n",
      "t only prevent our meeting this christmas , but be the occasion of so much vexation and trouble ! kiss the dear children for me . your affectionate mother , c. de courcy . xiv mr. de courcy to sir reg\n",
      "--------------------------------------------------\n",
      "1811 Sense and Sensibility.txt\n",
      "Displaying 2 of 2 matches:\n",
      "d their existence , and hoarded them for ever -- i was forced to put them up , and could not even kiss them . and the lock of hair -- that too i had always carried about me in the same pocket-book , w\n",
      ", where minuteness could be safely indulged . as soon as they entered the house , marianne with a kiss of gratitude and these two words just articulate through her tears , `` tell mama , '' withdrew f\n",
      "--------------------------------------------------\n",
      "1813 Pride and Prejudice.txt\n",
      "Displaying 1 of 1 matches:\n",
      "leasing earnest of their welcome . elizabeth jumped out ; and , after giving each of them a hasty kiss , hurried into the vestibule , where jane , who came running down from her mother 's apartment , \n",
      "--------------------------------------------------\n",
      "1814 Mansfield Park.txt\n",
      "Displaying 2 of 2 matches:\n",
      "persuadableness . chapter xxix the ball was over , and the breakfast was soon over too ; the last kiss was given , and william was gone . mr. crawford had , as he foretold , been very punctual , and s\n",
      "y words , but she felt her , as fanny 's sister , to have a claim at mansfield , and was ready to kiss and like her ; and susan was more than satisfied , for she came perfectly aware that nothing but \n",
      "--------------------------------------------------\n",
      "1815 Emma.txt\n",
      "no matches\n",
      "--------------------------------------------------\n",
      "1818 Northanger Abbey.txt\n",
      "no matches\n",
      "--------------------------------------------------\n",
      "1818 Persuasion.txt\n",
      "no matches\n",
      "--------------------------------------------------\n"
     ]
    }
   ],
   "source": [
    "import nltk\n",
    "\n",
    "for file in files:\n",
    "    f = open(file, 'r',encoding=\"utf-8-sig\")\n",
    "    bookStr = f.read()\n",
    "    austenText = nltk.word_tokenize(bookStr.lower())\n",
    "    austenSearch = nltk.Text(austenText)\n",
    "    print(file)\n",
    "    austenSearch.concordance(searchW, 200, 10)\n",
    "    print(\"-\"*50)"
   ]
  },
  {
   "cell_type": "markdown",
   "metadata": {},
   "source": [
    "It will be useful to figure out how to search for kiss*. I imagine I could do it with regular expressions. Until next time!"
   ]
  },
  {
   "cell_type": "markdown",
   "metadata": {},
   "source": [
    "# Disregard this! It's just for my own reference."
   ]
  },
  {
   "cell_type": "code",
   "execution_count": null,
   "metadata": {},
   "outputs": [],
   "source": [
    "#add to the loop if needed\n",
    "#austenText = [word for word in austenTokens if word[0].isalpha]\n",
    "    #from nltk.corpus import stopwords\n",
    "    #stopwords = stopwords.words(\"english\")\n",
    "    #austenText = [word for word in austenTokensLC \\\n",
    "        #if word[0].isalpha() and word not in stopwords]"
   ]
  }
 ],
 "metadata": {
  "kernelspec": {
   "display_name": "Python 3",
   "language": "python",
   "name": "python3"
  },
  "language_info": {
   "codemirror_mode": {
    "name": "ipython",
    "version": 3
   },
   "file_extension": ".py",
   "mimetype": "text/x-python",
   "name": "python",
   "nbconvert_exporter": "python",
   "pygments_lexer": "ipython3",
   "version": "3.7.1"
  }
 },
 "nbformat": 4,
 "nbformat_minor": 2
}
