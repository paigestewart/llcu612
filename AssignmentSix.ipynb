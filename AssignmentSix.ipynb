{
 "cells": [
  {
   "cell_type": "markdown",
   "metadata": {},
   "source": [
    "# 1. I would like to work with \"The Songs of Scotland Prior to Burns,\" a song and history book compiled by Robert Chambers and released in 1862. \n",
    "\n",
    "In 2011, the National Library of Scotland digitized this beautiful piece of Scotland's history and made it available in 16 different forms on Archive.org.\n",
    "\n",
    "I would like to make new songs out of the songs in this book through algorithmic (rhythmic, hehe) generation. \n",
    "\n",
    "I forsee many challenges using this book as my corpus. First, The archive.org text file is not organized in a way where I can easily delineate song lyrics from prose. Second, the musical notation is translated into characters like this: f ^=^^ Efc^fe^; I cannot figure out what notation or encoding this is... and I would really like to be able to re-translate it back into musical notation. Third, song generation from this large of a file will take a lot of computing power. \n",
    "\n",
    "I believe the only way to do this project is to create intermediate, \"cleaned-up\" version(s) of the text file. I know you (Stefan) did this with Hume's dialogues, so perhaps it is ok for me to do it too? This would ease at least two of my suspected challenges."
   ]
  },
  {
   "cell_type": "markdown",
   "metadata": {},
   "source": [
    "# 2. Now for the embedded Voyant Tool!\n",
    "\n",
    "Bonnie songs love ye <3 "
   ]
  },
  {
   "cell_type": "code",
   "execution_count": 11,
   "metadata": {
    "scrolled": true
   },
   "outputs": [
    {
     "data": {
      "text/html": [
       "\n",
       "        <iframe\n",
       "            width=\"600\"\n",
       "            height=\"300\"\n",
       "            src=\"https://voyant-tools.org/tool/Knots/?query=bonnie&query=songs&query=love&query=ye&docId=23fbed1ce160326b070dccfcd61c59b0&corpus=4812ee8a979a2d16f071a32a06c876bc\"\n",
       "            frameborder=\"0\"\n",
       "            allowfullscreen\n",
       "        ></iframe>\n",
       "        "
      ],
      "text/plain": [
       "<IPython.lib.display.IFrame at 0x20adff3e128>"
      ]
     },
     "execution_count": 11,
     "metadata": {},
     "output_type": "execute_result"
    }
   ],
   "source": [
    "from IPython.display import IFrame\n",
    "\n",
    "#the following should be a knot diagram for the following words: bonnie, songs, love, ye\n",
    "\n",
    "IFrame(\"https://voyant-tools.org/tool/Knots/?query=bonnie&query=songs&query=love&query=ye&docId=23fbed1ce160326b070dccfcd61c59b0&corpus=4812ee8a979a2d16f071a32a06c876bc\", width=600, height=300)"
   ]
  },
  {
   "cell_type": "code",
   "execution_count": 16,
   "metadata": {},
   "outputs": [
    {
     "data": {
      "text/plain": [
       "['sspb.original']"
      ]
     },
     "execution_count": 16,
     "metadata": {},
     "output_type": "execute_result"
    }
   ],
   "source": [
    "import os \n",
    "path = \"C:\\\\Users\\\\paige\\\\OneDrive\\\\Documents\\\\applications\\\\GitHub\\\\llcu612\\\\sspd\"\n",
    "os.chdir(path)\n",
    "files = os.listdir()\n",
    "files"
   ]
  },
  {
   "cell_type": "code",
   "execution_count": 24,
   "metadata": {},
   "outputs": [
    {
     "data": {
      "text/plain": [
       "str"
      ]
     },
     "execution_count": 24,
     "metadata": {},
     "output_type": "execute_result"
    }
   ],
   "source": [
    "sspbOpen = open(\"sspb.original\", 'r',encoding=\"utf-8-sig\")\n",
    "sspb = sspbOpen.read()\n",
    "sspb[0:200]"
   ]
  },
  {
   "cell_type": "code",
   "execution_count": 25,
   "metadata": {},
   "outputs": [
    {
     "name": "stdout",
     "output_type": "stream",
     "text": [
      "['ijlirana^unrox', 'jytrttyitijm^^', ',', '-v', 'c', '&', '/£/fa^', '^', 'i/', 'bet', 'j66/', '&', '.', '&', '*', 'fih*^', 'the', 'songs', 'of', 'scotland']\n"
     ]
    }
   ],
   "source": [
    "import nltk\n",
    "\n",
    "sspbWords=nltk.word_tokenize(sspb.lower())\n",
    "print(sspbWords[0:20])"
   ]
  },
  {
   "cell_type": "code",
   "execution_count": 36,
   "metadata": {},
   "outputs": [
    {
     "data": {
      "image/png": "[encoded data removed]",
      "text/plain": [
       "<Figure size 432x288 with 1 Axes>"
      ]
     },
     "metadata": {
      "needs_background": "light"
     },
     "output_type": "display_data"
    }
   ],
   "source": [
    "%matplotlib inline\n",
    "\n",
    "stopwords = nltk.corpus.stopwords.words(\"English\") # load stopwords\n",
    "#upon first plotting I noticed some words that should have been stopwords\n",
    "#below I remove them (and I talk about this issue at the end of the code)\n",
    "newStopWords = ['ye','e','j','thou','thy','thee','wi'] \n",
    "stopwords.extend(newStopWords)\n",
    "\n",
    "#filter words that are alphabetic and not in stopword list\n",
    "words = [word for word in sspbWords if word[0].isalpha() and not word in stopwords]\n",
    "freqs = nltk.FreqDist(words) # build frequency list\n",
    "freqs.plot(25) # plot the top 25 words"
   ]
  },
  {
   "cell_type": "markdown",
   "metadata": {},
   "source": [
    "Stopwords in SSPB are oftentimes not NLTK's English. I would need an Old English stopword set. It seems like there may be one through http://docs.cltk.org/en/latest/old_english.html\n",
    "The high instance of J and E came from the musical notation encoding I believe, so I made them stop words and it seems to have fixed the weirdness.\n",
    "\n",
    "I removed 'ye', 'thou', 'thy', 'thee', and 'wi' because they were not adding anything fun to the graph, though I can see that one may want to keep these tokens in the corpus (and out of the stopwords list). This is why it's good to keep a list of what you've done to the stopwords (as I have in newStopWords) so it is easy to change your mind later. \n",
    "\n",
    "Also, I don't necessarily understand the vocabulary in SSPB! I never thought of it being a bit like a different language. Interesting! \n",
    "\n",
    "This graph is for the whole text, not just the songs. I may have to create a new version of the text that only includes the songs. As everything is left justified with no discernable patterns of capitalization, punctuation or stanza, regular expressions may not do the trick.\n",
    "\n",
    "For this hypothetical just-the-songs-file, I may not remove stop words at all. I think this would make sense. "
   ]
  },
  {
   "cell_type": "code",
   "execution_count": null,
   "metadata": {},
   "outputs": [],
   "source": []
  }
 ],
 "metadata": {
  "kernelspec": {
   "display_name": "Python 3",
   "language": "python",
   "name": "python3"
  },
  "language_info": {
   "codemirror_mode": {
    "name": "ipython",
    "version": 3
   },
   "file_extension": ".py",
   "mimetype": "text/x-python",
   "name": "python",
   "nbconvert_exporter": "python",
   "pygments_lexer": "ipython3",
   "version": "3.7.1"
  }
 },
 "nbformat": 4,
 "nbformat_minor": 2
}
