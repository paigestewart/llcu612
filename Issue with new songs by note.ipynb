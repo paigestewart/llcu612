{
 "cells": [
  {
   "cell_type": "code",
   "execution_count": 3,
   "metadata": {},
   "outputs": [
    {
     "data": {
      "text/plain": [
       "['auld-lang-syne.xml',\n",
       " 'bonny-katherine-ogie.xml',\n",
       " 'last-time-i-came-oer-the-muir.xml',\n",
       " 'logan-water.xml',\n",
       " 'marys-dream.xml',\n",
       " 'twas-within-a-mile-of-edinburgh-town.xml',\n",
       " 'waukin-o-the-fauld.xml']"
      ]
     },
     "execution_count": 3,
     "metadata": {},
     "output_type": "execute_result"
    }
   ],
   "source": [
    "from bs4 import BeautifulSoup\n",
    "import glob\n",
    "import random\n",
    "\n",
    "#grab files from directory\n",
    "import os\n",
    "path = \"C:\\\\Users\\\\paige\\\\OneDrive\\\\Documents\\\\llcuCorpus\"\n",
    "os.chdir(path)\n",
    "files = os.listdir()\n",
    "files"
   ]
  },
  {
   "cell_type": "code",
   "execution_count": 13,
   "metadata": {},
   "outputs": [
    {
     "name": "stdout",
     "output_type": "stream",
     "text": [
      "[]\n"
     ]
    }
   ],
   "source": [
    "#gather and shuffle all measures beginning with the same note and print 16 of them\n",
    "#does not work right now\n",
    "D = []\n",
    "\n",
    "for filename in glob.glob(os.path.join(path, \"*.xml\")):#loop over, open, read and parse each xml file in directory\n",
    "    with open(filename) as f:\n",
    "        infile = open(filename,\"r\")\n",
    "        contents = infile.read()\n",
    "        soup = BeautifulSoup(contents,'xml')\n",
    "        allMeasures = soup.find_all(\"measure\")\n",
    "        for parentMeasure in allMeasures: #loop over each measure in allMeasures\n",
    "            step = soup.find(\"step\") #and find the first instance of Step, which is the first note\n",
    "            if step.get_text == \"D\": #if the step is D\n",
    "                parentMeasure = step.find_parent(\"measure\") #find the parent element which is measure\n",
    "                D.append([parentMeasure]) #and add it to \n",
    "print(D)\n",
    "\n",
    "#def newSongsByNote():\n",
    "    #random.shuffle(D)\n",
    "    #return D[0:16]"
   ]
  },
  {
   "cell_type": "code",
   "execution_count": null,
   "metadata": {},
   "outputs": [],
   "source": []
  }
 ],
 "metadata": {
  "kernelspec": {
   "display_name": "Python 3",
   "language": "python",
   "name": "python3"
  },
  "language_info": {
   "codemirror_mode": {
    "name": "ipython",
    "version": 3
   },
   "file_extension": ".py",
   "mimetype": "text/x-python",
   "name": "python",
   "nbconvert_exporter": "python",
   "pygments_lexer": "ipython3",
   "version": "3.7.1"
  }
 },
 "nbformat": 4,
 "nbformat_minor": 2
}
