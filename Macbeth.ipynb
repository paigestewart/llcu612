{
 "cells": [
  {
   "cell_type": "markdown",
   "metadata": {},
   "source": [
    "# let's get converting this text into one without stage directions, characters or gutenberg junk!\n",
    "\n",
    "speeches only!!!!!!!!!!!************"
   ]
  },
  {
   "cell_type": "code",
   "execution_count": 37,
   "metadata": {},
   "outputs": [
    {
     "data": {
      "text/plain": [
       "'\\ufeffThis Etext file is presented by Project Gutenberg, in\\r\\ncooperation with World Library, Inc., from their Library of the\\r\\nFutu'"
      ]
     },
     "execution_count": 37,
     "metadata": {},
     "output_type": "execute_result"
    }
   ],
   "source": [
    "import urllib.request\n",
    "\n",
    "url = \"http://www.gutenberg.org/cache/epub/1129/pg1129.txt\"\n",
    "source = urllib.request.urlopen(url).read().decode()\n",
    "source[0:125]"
   ]
  },
  {
   "cell_type": "markdown",
   "metadata": {},
   "source": [
    "Above, I've imported the Macbeth version 1129 from Project Gutenberg and displayed the first 125 characters. The unicode escape sequence is only seen when you spit something out, not when you print."
   ]
  },
  {
   "cell_type": "markdown",
   "metadata": {},
   "source": [
    "Below, just for fun, I've experimented with splitting the lines on unicode new line breaks, then displaying the number of lines numerically."
   ]
  },
  {
   "cell_type": "code",
   "execution_count": 9,
   "metadata": {},
   "outputs": [
    {
     "data": {
      "text/plain": [
       "3194"
      ]
     },
     "execution_count": 9,
     "metadata": {},
     "output_type": "execute_result"
    }
   ],
   "source": [
    "lines = source.split(\"\\r\\n\")\n",
    "len(lines)"
   ]
  },
  {
   "cell_type": "markdown",
   "metadata": {},
   "source": [
    "In an effort to find the middle part of the text, we tried a few different algorithms. Immediately below is the one where we find the word \"SCENE:\" and begin adding to a string after \"SCENE:\" called noStart. Then, we find the location of \"THE END\" and add noStart - locationOfEnd to macbeth. We then print 200 characters from the start of macbeth, dividing it up by unicode new line breaks, and 200 characters to the end of macbeth."
   ]
  },
  {
   "cell_type": "code",
   "execution_count": 49,
   "metadata": {},
   "outputs": [
    {
     "name": "stdout",
     "output_type": "stream",
     "text": [
      "SCENE: Scotland and England\r\n",
      "\r\n",
      "\r\n",
      "ACT I. SCENE I.\r\n",
      "A desert place. Thunder and lightning.\r\n",
      "\r\n",
      "Enter three Witches.\r\n",
      "\r\n",
      "  FIRST WITCH. When shall we three meet again?\r\n",
      "    In thunder, lightning, or in rai e, time, and place.\r\n",
      "    So thanks to all at once and to each one,\r\n",
      "    Whom we invite to see us crown'd at Scone.\r\n",
      "                                               Flourish. Exeunt.\r\n",
      "                 -\n"
     ]
    }
   ],
   "source": [
    "locationOfScene = source.find(\"SCENE:\")\n",
    "noStart = source[locationOfScene:]\n",
    "noStart[0:400]\n",
    "locationOfEnd = noStart.find(\"THE END\")\n",
    "macbeth = noStart[0:locationOfEnd]\n",
    "print(macbeth[0:200], macbeth[-200:])"
   ]
  },
  {
   "cell_type": "markdown",
   "metadata": {},
   "source": [
    "In the below algorithm, also to create a middle part of the corpus, we create a loop. First, we split the lines by unicode new line characters and specify that the reading is FALSE until we get to \"SCENE:\", after which we begin adding to an array called keepers. If a \"SCENE:\" is in the line, we add that line to the array; if \"THE END\" is in the line, we stop looping; for everything else, we are reading it and appending keepers array with each line. At the end, we print the first line in keepers, then the last."
   ]
  },
  {
   "cell_type": "code",
   "execution_count": 28,
   "metadata": {},
   "outputs": [
    {
     "name": "stdout",
     "output_type": "stream",
     "text": [
      "SCENE: Scotland and England                                                Flourish. Exeunt.\n"
     ]
    }
   ],
   "source": [
    "lines = source.split(\"\\r\\n\")\n",
    "reading = False\n",
    "keepers = [] #keep track of lines you wanna have\n",
    "for line in lines: \n",
    "    if \"SCENE:\" in line:\n",
    "        reading = True\n",
    "    if \"THE END\" in line:\n",
    "        break\n",
    "    if reading:\n",
    "        keepers.append(line)\n",
    "print(keepers[0], keepers[-1])"
   ]
  },
  {
   "cell_type": "markdown",
   "metadata": {},
   "source": [
    "So, we have created two different ways to make a corpus minus the start junk and the end junk. Now, we will begin converting the text to our specified parameters (no characters, only speeches). \n",
    "\n",
    "Below, we import regular expressions. Then, we create lines by splitting macbeth via unicode new line characters. We open an array called speeches and start a loop. \n",
    "\n",
    "If a line has no whitespace as it beings, do not match it; if it does have whitespace, match that line. This is confusing becuase it is like a double negative. But it works. Then, if a line has a speaker, as defined by having one or more whitespaces, being in caps for one or more characters, and perhaps his happens again with a second word ending with a period, sub out the speaker with noDude and add it to speeches. Then we print 30 lines of speeches."
   ]
  },
  {
   "cell_type": "code",
   "execution_count": 30,
   "metadata": {},
   "outputs": [
    {
     "data": {
      "text/plain": [
       "['',\n",
       " '',\n",
       " '',\n",
       " '',\n",
       " ' When shall we three meet again?',\n",
       " '    In thunder, lightning, or in rain?',\n",
       " \" When the hurlyburly's done,\",\n",
       " \"    When the battle's lost and won.\",\n",
       " ' That will be ere the set of sun.',\n",
       " ' Where the place?',\n",
       " ' Upon the heath.',\n",
       " ' There to meet with Macbeth.',\n",
       " ' I come, Graymalkin.',\n",
       " ' Paddock calls. Anon!',\n",
       " '    Fair is foul, and foul is fair.',\n",
       " '    Hover through the fog and filthy air.                Exeunt.',\n",
       " '',\n",
       " '',\n",
       " '',\n",
       " '',\n",
       " '',\n",
       " '',\n",
       " ' What bloody man is that? He can report,',\n",
       " '    As seemeth by his plight, of the revolt',\n",
       " '    The newest state.',\n",
       " ' This is the sergeant',\n",
       " '    Who like a good and hardy soldier fought',\n",
       " \"    'Gainst my captivity. Hail, brave friend!\",\n",
       " '    Say to the King the knowledge of the broil',\n",
       " '    As thou didst leave it.']"
      ]
     },
     "execution_count": 30,
     "metadata": {},
     "output_type": "execute_result"
    }
   ],
   "source": [
    "import re\n",
    "lines = macbeth.split(\"\\r\\n\")\n",
    "speeches = []\n",
    "for line in lines:\n",
    "    if not re.match(\"^\\S\", line):\n",
    "        noDude = re.sub(r'^\\s+[A-Z]+( [A-Z]+)*\\.', \"\", line)\n",
    "        speeches.append(noDude)\n",
    "speeches[0:30]\n"
   ]
  },
  {
   "cell_type": "markdown",
   "metadata": {},
   "source": [
    "Another way to convert the text according to our parameters is as follows:\n",
    "\n",
    "otherSpeeches will delete (sub) all lines with antyhing but whitespace at the beginning of each new line in macbeth and put these whitespace lines into a string separated by newline characters. \n",
    "noDudes will take otherSpeeches and delete (sub) everything having one or more whitespaces, being in caps for one or more characters, and perhaps his happens again with a second word ending with a period. \n",
    "Then, we print noDudes up to 390 characters! "
   ]
  },
  {
   "cell_type": "code",
   "execution_count": 36,
   "metadata": {},
   "outputs": [
    {
     "name": "stdout",
     "output_type": "stream",
     "text": [
      " When shall we three meet again?\r\n",
      "    In thunder, lightning, or in rain?\r\n",
      " When the hurlyburly's done,\r\n",
      "    When the battle's lost and won.\r\n",
      " That will be ere the set of sun.\r\n",
      " Where the place?\r\n",
      " Upon the heath.\r\n",
      " There to meet with Macbeth.\r\n",
      " I come, Graymalkin.\r\n",
      " Paddock calls. Anon!\r\n",
      "    Fair is foul, and foul is fair.\r\n",
      "    Hover through the fog and filthy air.                Exeunt.\r\n"
     ]
    }
   ],
   "source": [
    "otherSpeeches = re.sub(r'^\\S.*', \"\", macbeth, 0, re.M) #0 means there is no limit to how many replacements the code does, re.M is a flag (multiline) that means it's possible for the carrot symbol to match every new line (based on newline characters), rather than just the beginning of the string \n",
    "noDudes = re.sub(r'^\\s+[A-Z]+( [A-Z]+)*\\.', \"\", otherSpeeches, 0, re.M)\n",
    "print(noDudes[0:390])"
   ]
  },
  {
   "cell_type": "markdown",
   "metadata": {},
   "source": [
    "# we did it! meaning we scrubbed macbeth of everything but speeches <3"
   ]
  }
 ],
 "metadata": {
  "kernelspec": {
   "display_name": "Python 3",
   "language": "python",
   "name": "python3"
  },
  "language_info": {
   "codemirror_mode": {
    "name": "ipython",
    "version": 3
   },
   "file_extension": ".py",
   "mimetype": "text/x-python",
   "name": "python",
   "nbconvert_exporter": "python",
   "pygments_lexer": "ipython3",
   "version": "3.7.1"
  }
 },
 "nbformat": 4,
 "nbformat_minor": 2
}
